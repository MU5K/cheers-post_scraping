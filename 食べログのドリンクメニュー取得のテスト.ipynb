{
 "cells": [
  {
   "cell_type": "code",
   "execution_count": 1,
   "metadata": {},
   "outputs": [],
   "source": [
    "import requests\n",
    "from bs4 import BeautifulSoup"
   ]
  },
  {
   "cell_type": "code",
   "execution_count": 2,
   "metadata": {},
   "outputs": [],
   "source": [
    "url = \"https://tabelog.com/osaka/A2701/A270103/27113956/dtlmenu/drink/\""
   ]
  },
  {
   "cell_type": "code",
   "execution_count": 3,
   "metadata": {},
   "outputs": [],
   "source": [
    "res = requests.get(url)"
   ]
  },
  {
   "cell_type": "code",
   "execution_count": 4,
   "metadata": {},
   "outputs": [],
   "source": [
    "soup = BeautifulSoup(res.content)"
   ]
  },
  {
   "cell_type": "code",
   "execution_count": 5,
   "metadata": {},
   "outputs": [],
   "source": [
    "drink = []"
   ]
  },
  {
   "cell_type": "code",
   "execution_count": 13,
   "metadata": {},
   "outputs": [],
   "source": [
    "# for drink_menu in soup.find_all(\"div\", class_=\"rstdtl-menu-lst__info-inner\"):\n",
    "#     drink_name = drink_menu.find(\"p\", class_=\"rstdtl-menu-lst__menu-title\").text\n",
    "#     drink_price = drink_menu.find(\"p\", class_=\"rstdtl-menu-lst__price\")\n",
    "\n",
    "#     if drink_price is not None:\n",
    "#         drink_price = drink_menu.find(\"p\", class_=\"rstdtl-menu-lst__price\").text\n",
    "#     else:\n",
    "#         drink_name\n",
    "\n",
    "#     drink.append({\"drink_name\": drink_name, \"drink_price\": drink_price})"
   ]
  },
  {
   "cell_type": "code",
   "execution_count": 14,
   "metadata": {},
   "outputs": [
    {
     "data": {
      "text/plain": [
       "[{'drink_name': '日本酒', 'drink_price': None},\n",
       " {'drink_name': '芋焼酎', 'drink_price': None},\n",
       " {'drink_name': '麦焼酎', 'drink_price': None},\n",
       " {'drink_name': '米焼酎', 'drink_price': None},\n",
       " {'drink_name': '梅酒', 'drink_price': None},\n",
       " {'drink_name': 'ウイスキー', 'drink_price': None},\n",
       " {'drink_name': 'ボトル・グラスのご用意ございます', 'drink_price': None},\n",
       " {'drink_name': 'ボトル・グラスのご用意ございます', 'drink_price': None},\n",
       " {'drink_name': 'NV キュヴェ・シナチュール・ブリュット', 'drink_price': '9,500円'},\n",
       " {'drink_name': 'NV オーダス・ロゼ・ブリュット', 'drink_price': '12,000円'},\n",
       " {'drink_name': '2011 ブジー・ブリュット・ミレジメ', 'drink_price': '15,000円'},\n",
       " {'drink_name': '1990 ブリュット・ミレジメ・キュヴェ・メロディ', 'drink_price': '19,000円'}]"
      ]
     },
     "execution_count": 14,
     "metadata": {},
     "output_type": "execute_result"
    }
   ],
   "source": [
    "# drink"
   ]
  },
  {
   "cell_type": "code",
   "execution_count": null,
   "metadata": {},
   "outputs": [],
   "source": []
  },
  {
   "cell_type": "code",
   "execution_count": 22,
   "metadata": {},
   "outputs": [],
   "source": [
    "drink_names = []\n",
    "drink_prices = []"
   ]
  },
  {
   "cell_type": "code",
   "execution_count": 23,
   "metadata": {},
   "outputs": [],
   "source": [
    "for drink_list in soup.find_all(\"div\", class_=\"rstdtl-menu-lst__info-inner\"):\n",
    "    drink_name = drink_list.find(\"p\", class_=\"rstdtl-menu-lst__menu-title\").text\n",
    "    drink_price = drink_list.find(\"p\", class_=\"rstdtl-menu-lst__price\")\n",
    "\n",
    "    if drink_price is not None:\n",
    "        drink_price = drink_list.find(\"p\", class_=\"rstdtl-menu-lst__price\").text\n",
    "    else:\n",
    "        drink_name\n",
    "\n",
    "    drink_names.append({\"drink_name\": drink_name})\n",
    "    drink_prices.append({\"drink_price\": drink_price})\n",
    "    # drink_menu.append({\"drink_name\": drink_name, \"drink_price\": drink_price})"
   ]
  },
  {
   "cell_type": "code",
   "execution_count": 24,
   "metadata": {},
   "outputs": [
    {
     "data": {
      "text/plain": [
       "[{'drink_name': '日本酒'},\n",
       " {'drink_name': '芋焼酎'},\n",
       " {'drink_name': '麦焼酎'},\n",
       " {'drink_name': '米焼酎'},\n",
       " {'drink_name': '梅酒'},\n",
       " {'drink_name': 'ウイスキー'},\n",
       " {'drink_name': 'ボトル・グラスのご用意ございます'},\n",
       " {'drink_name': 'ボトル・グラスのご用意ございます'},\n",
       " {'drink_name': 'NV キュヴェ・シナチュール・ブリュット'},\n",
       " {'drink_name': 'NV オーダス・ロゼ・ブリュット'},\n",
       " {'drink_name': '2011 ブジー・ブリュット・ミレジメ'},\n",
       " {'drink_name': '1990 ブリュット・ミレジメ・キュヴェ・メロディ'}]"
      ]
     },
     "execution_count": 24,
     "metadata": {},
     "output_type": "execute_result"
    }
   ],
   "source": [
    "drink_names"
   ]
  },
  {
   "cell_type": "code",
   "execution_count": 25,
   "metadata": {},
   "outputs": [
    {
     "data": {
      "text/plain": [
       "[{'drink_price': None},\n",
       " {'drink_price': None},\n",
       " {'drink_price': None},\n",
       " {'drink_price': None},\n",
       " {'drink_price': None},\n",
       " {'drink_price': None},\n",
       " {'drink_price': None},\n",
       " {'drink_price': None},\n",
       " {'drink_price': '9,500円'},\n",
       " {'drink_price': '12,000円'},\n",
       " {'drink_price': '15,000円'},\n",
       " {'drink_price': '19,000円'}]"
      ]
     },
     "execution_count": 25,
     "metadata": {},
     "output_type": "execute_result"
    }
   ],
   "source": [
    "drink_prices"
   ]
  },
  {
   "cell_type": "code",
   "execution_count": null,
   "metadata": {},
   "outputs": [],
   "source": []
  },
  {
   "cell_type": "code",
   "execution_count": null,
   "metadata": {},
   "outputs": [],
   "source": []
  }
 ],
 "metadata": {
  "kernelspec": {
   "display_name": "Python 3.8.10 ('.scrapy_env': venv)",
   "language": "python",
   "name": "python3"
  },
  "language_info": {
   "codemirror_mode": {
    "name": "ipython",
    "version": 3
   },
   "file_extension": ".py",
   "mimetype": "text/x-python",
   "name": "python",
   "nbconvert_exporter": "python",
   "pygments_lexer": "ipython3",
   "version": "3.8.10"
  },
  "orig_nbformat": 4,
  "vscode": {
   "interpreter": {
    "hash": "6212b8f7e162490ddd2e7e13f0a50e29c6fda8b464ef8c011fe1e648158e7641"
   }
  }
 },
 "nbformat": 4,
 "nbformat_minor": 2
}
